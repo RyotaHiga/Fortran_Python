{
 "cells": [
  {
   "cell_type": "markdown",
   "metadata": {},
   "source": [
    "# Python with Fortran\n",
    "\n",
    "Author: Ryota Higa"
   ]
  },
  {
   "cell_type": "markdown",
   "metadata": {},
   "source": [
    "Reference\n",
    "\n",
    "> http://d.hatena.ne.jp/ignisan/20121017/p1\n",
    "\n",
    "> http://www.nag-j.co.jp/fortran/tips/tips_InteroperabilityWithC.html#MixCF\n",
    "\n",
    "> http://fortran66.hatenablog.com/entry/2014/02/26/021624"
   ]
  },
  {
   "cell_type": "markdown",
   "metadata": {},
   "source": [
    "# Fortran control by Jupyter-notebook"
   ]
  },
  {
   "cell_type": "code",
   "execution_count": 1,
   "metadata": {
    "collapsed": false
   },
   "outputs": [
    {
     "name": "stdout",
     "output_type": "stream",
     "text": [
      "Overwriting test.f90\n"
     ]
    }
   ],
   "source": [
    "%%writefile test.f90\n",
    "program test\n",
    "    implicit none\n",
    "    integer i, j\n",
    "    do i = 1, 3\n",
    "        do j = 1, 3\n",
    "        write(*, *) i, j, i+j\n",
    "        end do\n",
    "    end do\n",
    "end program"
   ]
  },
  {
   "cell_type": "code",
   "execution_count": 2,
   "metadata": {
    "collapsed": true
   },
   "outputs": [],
   "source": [
    "!gfortran test.f90"
   ]
  },
  {
   "cell_type": "code",
   "execution_count": 3,
   "metadata": {
    "collapsed": false
   },
   "outputs": [
    {
     "name": "stdout",
     "output_type": "stream",
     "text": [
      "           1           1           2\r\n",
      "           1           2           3\r\n",
      "           1           3           4\r\n",
      "           2           1           3\r\n",
      "           2           2           4\r\n",
      "           2           3           5\r\n",
      "           3           1           4\r\n",
      "           3           2           5\r\n",
      "           3           3           6\r\n"
     ]
    }
   ],
   "source": [
    "!./a.out"
   ]
  },
  {
   "cell_type": "code",
   "execution_count": 4,
   "metadata": {
    "collapsed": true
   },
   "outputs": [],
   "source": [
    "import numpy as np\n",
    "import matplotlib.pyplot as plt\n",
    "from ctypes import * \n",
    "%matplotlib inline"
   ]
  },
  {
   "cell_type": "markdown",
   "metadata": {},
   "source": [
    "# Fortran, add.f90"
   ]
  },
  {
   "cell_type": "code",
   "execution_count": 5,
   "metadata": {
    "collapsed": false
   },
   "outputs": [
    {
     "name": "stdout",
     "output_type": "stream",
     "text": [
      "Overwriting add.f90\n"
     ]
    }
   ],
   "source": [
    "%%writefile add.f90\n",
    "subroutine add(a,b)\n",
    "    implicit none\n",
    "    integer(8),intent(in) :: a\n",
    "    integer(8),intent(inout):: b\n",
    "    b = a + b\n",
    "end subroutine"
   ]
  },
  {
   "cell_type": "markdown",
   "metadata": {},
   "source": [
    "## Compile "
   ]
  },
  {
   "cell_type": "code",
   "execution_count": 6,
   "metadata": {
    "collapsed": false
   },
   "outputs": [],
   "source": [
    "!gfortran -shared -fPIC -o add.so add.f90"
   ]
  },
  {
   "cell_type": "markdown",
   "metadata": {},
   "source": [
    "## Call from Python"
   ]
  },
  {
   "cell_type": "code",
   "execution_count": 7,
   "metadata": {
    "collapsed": false
   },
   "outputs": [
    {
     "name": "stdout",
     "output_type": "stream",
     "text": [
      "18\n"
     ]
    }
   ],
   "source": [
    "addmodule = cdll.LoadLibrary(\"add.so\")\n",
    "\n",
    "# 引数の型を指定する。今回はintのポインタ型\n",
    "# Fortranのサブルーチン名\"add\"にアンスコ\"_\"をつける(gccでは)\n",
    "addmodule.add_.argtypes = [ POINTER(c_int64),POINTER(c_int64)]\n",
    "      \n",
    "# 戻り値の型を指定する。Fortranのサブルーチンはvoidしか返せない\n",
    "addmodule.add_.restype = c_void_p  \n",
    "\n",
    "# 呼び出しに使う引数はctypesの型でラップする\n",
    "a,b = 10,8 \n",
    "a = c_int64(a)\n",
    "b = c_int64(b)\n",
    " \n",
    "# byrefでポインタにして渡す         \n",
    "addmodule.add_(byref(a),byref(b)) \n",
    "print b.value # 18 "
   ]
  },
  {
   "cell_type": "markdown",
   "metadata": {},
   "source": [
    "# add_np.f90"
   ]
  },
  {
   "cell_type": "code",
   "execution_count": 8,
   "metadata": {
    "collapsed": false
   },
   "outputs": [
    {
     "name": "stdout",
     "output_type": "stream",
     "text": [
      "Overwriting add_np.f90\n"
     ]
    }
   ],
   "source": [
    "%%writefile add_np.f90\n",
    "#define MAXSIZE 1024 \n",
    "subroutine add_array(a,b,N)\n",
    "    implicit none\n",
    "    integer(8),intent(in) :: N  \n",
    "    real(8),dimension(0:MAXSIZE),intent(in) :: a\n",
    "    real(8),dimension(0:MAXSIZE),intent(inout):: b\n",
    "#ifndef NDEBUG\n",
    "    if (N>MAXSIZE) then\n",
    "        print *,\"MAXSIZE is too small.\"\n",
    "    endif \n",
    "#endif \n",
    "    b(0:N-1) = b(0:N-1) + a(0:N-1)\n",
    "end subroutine"
   ]
  },
  {
   "cell_type": "markdown",
   "metadata": {},
   "source": [
    "## Compile"
   ]
  },
  {
   "cell_type": "code",
   "execution_count": 9,
   "metadata": {
    "collapsed": true
   },
   "outputs": [],
   "source": [
    "!gfortran -cpp -shared -fPIC -o add_np.so add_np.f90"
   ]
  },
  {
   "cell_type": "markdown",
   "metadata": {},
   "source": [
    "## Call from Python"
   ]
  },
  {
   "cell_type": "code",
   "execution_count": 10,
   "metadata": {
    "collapsed": false
   },
   "outputs": [
    {
     "name": "stdout",
     "output_type": "stream",
     "text": [
      "[  0.   3.   6.   9.  12.  15.  18.  21.  24.  27.]\n"
     ]
    }
   ],
   "source": [
    "from ctypes import *\n",
    "import numpy as np\n",
    "\n",
    "add_np = np.ctypeslib.load_library(\"add_np.so\",\".\")\n",
    "add_np.add_array_.argtypes = [\n",
    "               np.ctypeslib.ndpointer(dtype=np.float64),\n",
    "               np.ctypeslib.ndpointer(dtype=np.float64),\n",
    "               POINTER(c_int64),]\n",
    "add_np.add_array_.restype = c_void_p   \n",
    "                    \n",
    "a = np.arange(0.,10.,dtype=np.float64) # 0,1,2,3,4,5,..,9 \n",
    "b = a*2                                # 0,2,4,6,8,...,18\n",
    "size = byref(c_int64(b.size)) \n",
    "add_np.add_array_(a,b,size) # ndarrayはそのまま渡して良い \n",
    "print b # [ 0 3 6 9 12 .. 27 ] "
   ]
  },
  {
   "cell_type": "markdown",
   "metadata": {},
   "source": [
    "# D_py.f90"
   ]
  },
  {
   "cell_type": "code",
   "execution_count": 11,
   "metadata": {
    "collapsed": false
   },
   "outputs": [
    {
     "name": "stdout",
     "output_type": "stream",
     "text": [
      "Overwriting D_py.f90\n"
     ]
    }
   ],
   "source": [
    "%%writefile D_py.f90\n",
    "module m_test\n",
    "  implicit none\n",
    "  real(8), parameter :: pi = 4 * atan(1.0d0)\n",
    "contains    \n",
    "  subroutine test(n, x) BIND(c, name = 'test')\n",
    "    !DEC$ ATTRIBUTES DLLEXPORT :: test\n",
    "    integer, value :: n\n",
    "    real(8), intent(out) :: x(n)\n",
    "    integer :: i\n",
    "    print *,'n = ',n\n",
    "    do i = 1, n\n",
    "      x(i) = sin( (i - 1) * pi / (n - 1) )\n",
    "    end do  \n",
    "  end subroutine test\n",
    "end module m_test"
   ]
  },
  {
   "cell_type": "code",
   "execution_count": 12,
   "metadata": {
    "collapsed": true
   },
   "outputs": [],
   "source": [
    "!gfortran -shared -o D_py.dll D_py.f90"
   ]
  },
  {
   "cell_type": "code",
   "execution_count": 13,
   "metadata": {
    "collapsed": false
   },
   "outputs": [],
   "source": [
    "my_mod = CDLL(\"D_py.dll\")\n",
    "my_mod.test.argtypes = [\n",
    "               c_int32,\n",
    "               np.ctypeslib.ndpointer(dtype=np.float64)]\n",
    "my_mod.test.restype = c_void_p"
   ]
  },
  {
   "cell_type": "code",
   "execution_count": 14,
   "metadata": {
    "collapsed": false
   },
   "outputs": [
    {
     "data": {
      "image/png": "[encoded data removed]",
      "text/plain": [
       "<matplotlib.figure.Figure at 0x10b1bd9d0>"
      ]
     },
     "metadata": {},
     "output_type": "display_data"
    }
   ],
   "source": [
    "x = np.arange(0.0, 1000.0, dtype=np.float64)\n",
    "my_mod.test(x.size, x)  \n",
    "plt.plot(x)\n",
    "plt.show()"
   ]
  },
  {
   "cell_type": "code",
   "execution_count": null,
   "metadata": {
    "collapsed": true
   },
   "outputs": [],
   "source": []
  }
 ],
 "metadata": {
  "kernelspec": {
   "display_name": "Python 2",
   "language": "python",
   "name": "python2"
  },
  "language_info": {
   "codemirror_mode": {
    "name": "ipython",
    "version": 2
   },
   "file_extension": ".py",
   "mimetype": "text/x-python",
   "name": "python",
   "nbconvert_exporter": "python",
   "pygments_lexer": "ipython2",
   "version": "2.7.12"
  },
  "latex_envs": {
   "bibliofile": "biblio.bib",
   "cite_by": "apalike",
   "current_citInitial": 1,
   "eqLabelWithNumbers": true,
   "eqNumInitial": 0
  },
  "toc": {
   "nav_menu": {
    "height": "138px",
    "width": "252px"
   },
   "navigate_menu": true,
   "number_sections": true,
   "sideBar": true,
   "threshold": 4,
   "toc_cell": false,
   "toc_section_display": "block",
   "toc_window_display": true
  }
 },
 "nbformat": 4,
 "nbformat_minor": 2
}
